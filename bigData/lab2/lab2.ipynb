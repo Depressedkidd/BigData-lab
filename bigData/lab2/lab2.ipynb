{
 "cells": [
  {
   "cell_type": "markdown",
   "id": "f7c65370",
   "metadata": {},
   "source": [
    "<p>Атай Камбаров win-1-21 <br> Лабораторная работа №2 </p>"
   ]
  },
  {
   "cell_type": "code",
   "execution_count": 1,
   "id": "4047ba82",
   "metadata": {},
   "outputs": [],
   "source": [
    "import numpy as np"
   ]
  },
  {
   "cell_type": "markdown",
   "id": "bc734921",
   "metadata": {
    "tags": []
   },
   "source": [
    "<p>1.1 Создайте одномерный массив my_array, в котором по порядку все числа до 100, кратные 5</p>"
   ]
  },
  {
   "cell_type": "code",
   "execution_count": 2,
   "id": "cd18bd16",
   "metadata": {},
   "outputs": [
    {
     "name": "stdout",
     "output_type": "stream",
     "text": [
      "[ 0  5 10 15 20 25 30 35 40 45 50 55 60 65 70 75 80 85 90 95]\n"
     ]
    }
   ],
   "source": [
    "my_array = np.arange(0, 100, 5)\n",
    "print(my_array)"
   ]
  },
  {
   "cell_type": "markdown",
   "id": "f5395ced",
   "metadata": {},
   "source": [
    "<p>2.1 Из полученного массива получить массив с кратными 10 числами</p>"
   ]
  },
  {
   "cell_type": "code",
   "execution_count": 3,
   "id": "d54005cb",
   "metadata": {},
   "outputs": [
    {
     "name": "stdout",
     "output_type": "stream",
     "text": [
      "[ 0 10 20 30 40 50 60 70 80 90]\n"
     ]
    }
   ],
   "source": [
    "my_array = my_array[::2]\n",
    "print(my_array)"
   ]
  },
  {
   "cell_type": "markdown",
   "id": "8435edaf",
   "metadata": {},
   "source": [
    "<p>3.1 Получить двумерный массив с двумя столбцами</p>"
   ]
  },
  {
   "cell_type": "code",
   "execution_count": 4,
   "id": "c0bebc96",
   "metadata": {},
   "outputs": [
    {
     "name": "stdout",
     "output_type": "stream",
     "text": [
      "[[ 0 10]\n",
      " [20 30]\n",
      " [40 50]\n",
      " [60 70]\n",
      " [80 90]]\n"
     ]
    }
   ],
   "source": [
    "my_array = my_array.reshape(-1, 2)\n",
    "print(my_array)"
   ]
  },
  {
   "cell_type": "markdown",
   "id": "c23d6eb5",
   "metadata": {},
   "source": [
    "<p>4.1 Получите набор my_second_array, в котором все элементы меньше предыдущего исходного на 5</p>"
   ]
  },
  {
   "cell_type": "code",
   "execution_count": 5,
   "id": "25340a92",
   "metadata": {},
   "outputs": [
    {
     "name": "stdout",
     "output_type": "stream",
     "text": [
      "[[-5  5]\n",
      " [15 25]\n",
      " [35 45]\n",
      " [55 65]\n",
      " [75 85]]\n"
     ]
    }
   ],
   "source": [
    "my_second_array = my_array - 5\n",
    "print(my_second_array)"
   ]
  },
  {
   "cell_type": "markdown",
   "id": "23027a30",
   "metadata": {},
   "source": [
    "<p>5.1 Соедините массивы, полученные в п. 3.1 и 4.1, горизонтально. Используйте .T для транспонирования матрицы</p>"
   ]
  },
  {
   "cell_type": "code",
   "execution_count": 6,
   "id": "f1f23699",
   "metadata": {},
   "outputs": [
    {
     "name": "stdout",
     "output_type": "stream",
     "text": [
      "[[ 0 10 -5  5]\n",
      " [20 30 15 25]\n",
      " [40 50 35 45]\n",
      " [60 70 55 65]\n",
      " [80 90 75 85]]\n"
     ]
    }
   ],
   "source": [
    "result = np.hstack((my_array, my_second_array))\n",
    "print(result)"
   ]
  },
  {
   "cell_type": "markdown",
   "id": "d51c0e57",
   "metadata": {},
   "source": [
    "<p>7.1 Оставить только те значения, которые не изменились после деления</p>"
   ]
  },
  {
   "cell_type": "code",
   "execution_count": 8,
   "id": "0e934849",
   "metadata": {},
   "outputs": [
    {
     "name": "stdout",
     "output_type": "stream",
     "text": [
      "[ 0 10 60 70 80 90]\n"
     ]
    }
   ],
   "source": [
    "unchanged_values = my_array[my_array == my_array_copy]\n",
    "print(unchanged_values)"
   ]
  },
  {
   "cell_type": "markdown",
   "id": "9d158d44",
   "metadata": {},
   "source": [
    "<p>8.1 Снова получить трехстрочный двумерный массив и поменять местами первую и третью строки</p>"
   ]
  },
  {
   "cell_type": "code",
   "execution_count": 9,
   "id": "1f70a20f",
   "metadata": {},
   "outputs": [
    {
     "name": "stdout",
     "output_type": "stream",
     "text": [
      "[[80 90]\n",
      " [60 70]\n",
      " [ 0 10]]\n"
     ]
    }
   ],
   "source": [
    "unchanged_values = unchanged_values.reshape(3, -1)\n",
    "unchanged_values = unchanged_values[::-1]\n",
    "\n",
    "print(unchanged_values)"
   ]
  },
  {
   "cell_type": "markdown",
   "id": "b66d6349",
   "metadata": {},
   "source": [
    "<p>9.1 Получить среднее, медиану и стандартное отклонение для каждой строки, используя команды np.mean(), np.median(), np.std().</p>"
   ]
  },
  {
   "cell_type": "code",
   "execution_count": 10,
   "id": "18faccff",
   "metadata": {},
   "outputs": [
    {
     "name": "stdout",
     "output_type": "stream",
     "text": [
      "Среднее для 80 и 90: 85.0\n",
      "Медиана для 80 и 90: 85.0\n",
      "Стандартное отклонение для 80 и 90: 5.0\n",
      "Среднее для 60 и 70: 65.0\n",
      "Медиана для 60 и 70: 65.0\n",
      "Стандартное отклонение для 60 и 70: 5.0\n",
      "Среднее для 0 и 10: 5.0\n",
      "Медиана для 0 и 10: 5.0\n",
      "Стандартное отклонение для 0 и 10: 5.0\n"
     ]
    }
   ],
   "source": [
    "for i in unchanged_values:\n",
    "    print(f'Среднее для {i[0]} и {i[1]}: {np.mean(i)}')\n",
    "    print(f'Медиана для {i[0]} и {i[1]}: {np.median(i)}')\n",
    "    print(f'Стандартное отклонение для {i[0]} и {i[1]}: {np.std(i)}')"
   ]
  },
  {
   "cell_type": "markdown",
   "id": "16755142",
   "metadata": {},
   "source": [
    "<p>10.1 Сделать нормализацию на максимальное значение вдоль строк, поделив каждый элемент массива на max() вдоль строк.</p>"
   ]
  },
  {
   "cell_type": "code",
   "execution_count": 11,
   "id": "712fd651",
   "metadata": {},
   "outputs": [
    {
     "name": "stdout",
     "output_type": "stream",
     "text": [
      "[[0.88888889 1.        ]\n",
      " [0.85714286 1.        ]\n",
      " [0.         1.        ]]\n"
     ]
    }
   ],
   "source": [
    "max_values = unchanged_values.max(axis=1)\n",
    "\n",
    "normalized_array = unchanged_values / max_values[:, np.newaxis]\n",
    "print(normalized_array)\n"
   ]
  },
  {
   "cell_type": "markdown",
   "id": "ef989419",
   "metadata": {},
   "source": [
    "<p>Использование команд библиотеки pandas</p>"
   ]
  },
  {
   "cell_type": "markdown",
   "id": "b2e3ca0c",
   "metadata": {},
   "source": [
    "<p>2.1 Импортируйте данные из файла “Global Population Trends(2016-2022).csv”.</p>"
   ]
  },
  {
   "cell_type": "code",
   "execution_count": 12,
   "id": "ea6039df",
   "metadata": {},
   "outputs": [
    {
     "name": "stdout",
     "output_type": "stream",
     "text": [
      "          Country  Year Total Population Urban Population Rural Population  \\\n",
      "0     Afghanistan  2017                -                -                -   \n",
      "1     Afghanistan  2018       36,686,784        9,353,296       27,333,488   \n",
      "2     Afghanistan  2019       37,769,499        9,727,157       28,042,342   \n",
      "3     Afghanistan  2020       38,972,230       10,142,913       28,829,317   \n",
      "4     Afghanistan  2021       40,099,462       10,551,772       29,547,690   \n",
      "...           ...   ...              ...              ...              ...   \n",
      "1068     Zimbabwe  2017                -                -                -   \n",
      "1069     Zimbabwe  2018       15,052,184        4,848,158       10,204,026   \n",
      "1070     Zimbabwe  2019       15,354,608        4,945,719       10,408,889   \n",
      "1071     Zimbabwe  2020       15,669,666        5,052,214       10,617,452   \n",
      "1072     Zimbabwe  2021       15,993,524        5,166,388       10,827,136   \n",
      "\n",
      "     Population Density Life Expectancy  Birth Rate  Death Rate  \\\n",
      "0                    55            63.0      37.342       7.027   \n",
      "1                    56            63.0      36.927       6.981   \n",
      "2                    58            64.0      36.466       6.791   \n",
      "3                    60            63.0      36.051       7.113   \n",
      "4                     -            62.0      35.842       7.344   \n",
      "...                 ...             ...         ...         ...   \n",
      "1068                 38            61.0      32.516       8.266   \n",
      "1069                 39            61.0      32.074       7.972   \n",
      "1070                 40            61.0      31.518       8.043   \n",
      "1071                 41            61.0      31.009       8.132   \n",
      "1072                  -            59.0      30.537       9.057   \n",
      "\n",
      "     Fertility Rate Infant Mortality Rate Growth Rate  \n",
      "0             5.129                  49.4           -  \n",
      "1             5.002                  47.8         3.0  \n",
      "2              4.87                  46.3         3.0  \n",
      "3              4.75                  44.8         3.0  \n",
      "4             4.643                  43.4         3.0  \n",
      "...             ...                   ...         ...  \n",
      "1068          3.706                  39.5           -  \n",
      "1069          3.659                  38.0         2.0  \n",
      "1070          3.599                  37.1         2.0  \n",
      "1071          3.545                  36.6         2.0  \n",
      "1072          3.491                  35.7         2.0  \n",
      "\n",
      "[1073 rows x 12 columns]\n"
     ]
    }
   ],
   "source": [
    "import pandas as pd\n",
    "df = pd.read_csv('Global Population Trends(2016-2022).csv')\n",
    "print(df)"
   ]
  },
  {
   "cell_type": "markdown",
   "id": "4bda9be3",
   "metadata": {},
   "source": [
    " <p>2.2  Считайте несколько первых записей таблицы (head())</p>"
   ]
  },
  {
   "cell_type": "code",
   "execution_count": 13,
   "id": "3c90b5f7",
   "metadata": {},
   "outputs": [
    {
     "name": "stdout",
     "output_type": "stream",
     "text": [
      "       Country  Year Total Population Urban Population Rural Population  \\\n",
      "0  Afghanistan  2017                -                -                -   \n",
      "1  Afghanistan  2018       36,686,784        9,353,296       27,333,488   \n",
      "2  Afghanistan  2019       37,769,499        9,727,157       28,042,342   \n",
      "3  Afghanistan  2020       38,972,230       10,142,913       28,829,317   \n",
      "4  Afghanistan  2021       40,099,462       10,551,772       29,547,690   \n",
      "\n",
      "  Population Density Life Expectancy  Birth Rate  Death Rate Fertility Rate  \\\n",
      "0                 55            63.0      37.342       7.027          5.129   \n",
      "1                 56            63.0      36.927       6.981          5.002   \n",
      "2                 58            64.0      36.466       6.791           4.87   \n",
      "3                 60            63.0      36.051       7.113           4.75   \n",
      "4                  -            62.0      35.842       7.344          4.643   \n",
      "\n",
      "  Infant Mortality Rate Growth Rate  \n",
      "0                  49.4           -  \n",
      "1                  47.8         3.0  \n",
      "2                  46.3         3.0  \n",
      "3                  44.8         3.0  \n",
      "4                  43.4         3.0  \n"
     ]
    }
   ],
   "source": [
    "print(df.head())"
   ]
  },
  {
   "cell_type": "markdown",
   "id": "fe805917",
   "metadata": {},
   "source": [
    " <p>2.3 Определите размерность данного фрейма (shape)</p>"
   ]
  },
  {
   "cell_type": "code",
   "execution_count": 14,
   "id": "cb9f6114",
   "metadata": {},
   "outputs": [
    {
     "name": "stdout",
     "output_type": "stream",
     "text": [
      "(1073, 12)\n"
     ]
    }
   ],
   "source": [
    "print(df.shape)"
   ]
  },
  {
   "cell_type": "markdown",
   "id": "6a2a6e48",
   "metadata": {},
   "source": [
    " <p>2.4 Выведите название заголовков столбцов фрейма (columns)</p>"
   ]
  },
  {
   "cell_type": "code",
   "execution_count": 15,
   "id": "916eb7e8",
   "metadata": {},
   "outputs": [
    {
     "name": "stdout",
     "output_type": "stream",
     "text": [
      "Index(['Country', 'Year', 'Total Population', 'Urban Population',\n",
      "       'Rural Population', 'Population Density', 'Life Expectancy',\n",
      "       'Birth Rate', 'Death Rate', 'Fertility Rate', 'Infant Mortality Rate',\n",
      "       'Growth Rate'],\n",
      "      dtype='object')\n"
     ]
    }
   ],
   "source": [
    "print(df.columns)"
   ]
  },
  {
   "cell_type": "markdown",
   "id": "a7caedac",
   "metadata": {},
   "source": [
    " <p>2.5 Получите описание всех переменных (полей) (info())</p>"
   ]
  },
  {
   "cell_type": "code",
   "execution_count": 16,
   "id": "ddfebce3",
   "metadata": {},
   "outputs": [
    {
     "name": "stdout",
     "output_type": "stream",
     "text": [
      "<class 'pandas.core.frame.DataFrame'>\n",
      "RangeIndex: 1073 entries, 0 to 1072\n",
      "Data columns (total 12 columns):\n",
      " #   Column                 Non-Null Count  Dtype  \n",
      "---  ------                 --------------  -----  \n",
      " 0   Country                1073 non-null   object \n",
      " 1   Year                   1073 non-null   int64  \n",
      " 2   Total Population       1073 non-null   object \n",
      " 3   Urban Population       1073 non-null   object \n",
      " 4   Rural Population       1073 non-null   object \n",
      " 5   Population Density     1073 non-null   object \n",
      " 6   Life Expectancy        1073 non-null   object \n",
      " 7   Birth Rate             1073 non-null   float64\n",
      " 8   Death Rate             1073 non-null   float64\n",
      " 9   Fertility Rate         1073 non-null   object \n",
      " 10  Infant Mortality Rate  1073 non-null   object \n",
      " 11  Growth Rate            1073 non-null   object \n",
      "dtypes: float64(2), int64(1), object(9)\n",
      "memory usage: 100.7+ KB\n",
      "None\n"
     ]
    }
   ],
   "source": [
    "print(df.info())"
   ]
  },
  {
   "cell_type": "markdown",
   "id": "f2ab7da6",
   "metadata": {},
   "source": [
    " <p>2.6 Удалите строки, не содержащие значения в столбце «Total Population» - “-”</p>"
   ]
  },
  {
   "cell_type": "code",
   "execution_count": 17,
   "id": "7e571d39",
   "metadata": {},
   "outputs": [
    {
     "name": "stdout",
     "output_type": "stream",
     "text": [
      "          Country  Year Total Population Urban Population Rural Population  \\\n",
      "1     Afghanistan  2018       36,686,784        9,353,296       27,333,488   \n",
      "2     Afghanistan  2019       37,769,499        9,727,157       28,042,342   \n",
      "3     Afghanistan  2020       38,972,230       10,142,913       28,829,317   \n",
      "4     Afghanistan  2021       40,099,462       10,551,772       29,547,690   \n",
      "6         Albania  2018        2,866,376        1,728,969        1,137,407   \n",
      "...           ...   ...              ...              ...              ...   \n",
      "1067       Zambia  2021       19,473,125        8,800,295       10,672,830   \n",
      "1069     Zimbabwe  2018       15,052,184        4,848,158       10,204,026   \n",
      "1070     Zimbabwe  2019       15,354,608        4,945,719       10,408,889   \n",
      "1071     Zimbabwe  2020       15,669,666        5,052,214       10,617,452   \n",
      "1072     Zimbabwe  2021       15,993,524        5,166,388       10,827,136   \n",
      "\n",
      "     Population Density Life Expectancy  Birth Rate  Death Rate  \\\n",
      "1                    56            63.0      36.927       6.981   \n",
      "2                    58            64.0      36.466       6.791   \n",
      "3                    60            63.0      36.051       7.113   \n",
      "4                     -            62.0      35.842       7.344   \n",
      "6                   105            79.0      10.517       8.308   \n",
      "...                 ...             ...         ...         ...   \n",
      "1067                  -            61.0      34.511       6.973   \n",
      "1069                 39            61.0      32.074       7.972   \n",
      "1070                 40            61.0      31.518       8.043   \n",
      "1071                 41            61.0      31.009       8.132   \n",
      "1072                  -            59.0      30.537       9.057   \n",
      "\n",
      "     Fertility Rate Infant Mortality Rate Growth Rate  \n",
      "1             5.002                  47.8         3.0  \n",
      "2              4.87                  46.3         3.0  \n",
      "3              4.75                  44.8         3.0  \n",
      "4             4.643                  43.4         3.0  \n",
      "6              1.44                   8.3         0.0  \n",
      "...             ...                   ...         ...  \n",
      "1067          4.308                  40.2         3.0  \n",
      "1069          3.659                  38.0         2.0  \n",
      "1070          3.599                  37.1         2.0  \n",
      "1071          3.545                  36.6         2.0  \n",
      "1072          3.491                  35.7         2.0  \n",
      "\n",
      "[864 rows x 12 columns]\n"
     ]
    }
   ],
   "source": [
    "df = df[df['Total Population'] != '-']\n",
    "print(df)"
   ]
  },
  {
   "cell_type": "markdown",
   "id": "74286140",
   "metadata": {},
   "source": [
    " <p>2.7 Получите описательную статистику по переменным (например, max(), min(), describe())</p>"
   ]
  },
  {
   "cell_type": "code",
   "execution_count": 18,
   "id": "b665a9bb",
   "metadata": {},
   "outputs": [
    {
     "name": "stdout",
     "output_type": "stream",
     "text": [
      "Max total population: 99,258\n",
      "Min total population: 1,057,198\n",
      "\n",
      "              Year  Birth Rate  Death Rate\n",
      "count   864.000000  864.000000  864.000000\n",
      "mean   2019.500000   18.548384    7.889123\n",
      "std       1.118682    9.887518    3.041385\n",
      "min    2018.000000    0.000000    0.000000\n",
      "25%    2018.750000   10.500000    6.116500\n",
      "50%    2019.500000   15.628500    7.453500\n",
      "75%    2020.250000   25.565000    9.385000\n",
      "max    2021.000000   46.127000   21.700000\n"
     ]
    }
   ],
   "source": [
    "print('Max total population: ' + df['Total Population'].max())\n",
    "print('Min total population: ' + df['Total Population'].min(), end='\\n\\n')\n",
    "\n",
    "print(df.describe())"
   ]
  },
  {
   "cell_type": "markdown",
   "id": "88438307",
   "metadata": {},
   "source": [
    " <p>2.8 Выполните сортировку данных по нескольким критериям</p>"
   ]
  },
  {
   "cell_type": "code",
   "execution_count": 19,
   "id": "7f3cc686",
   "metadata": {},
   "outputs": [
    {
     "name": "stdout",
     "output_type": "stream",
     "text": [
      "            Country  Year Total Population Urban Population Rural Population  \\\n",
      "15   American Samoa  2018           48,424           42,203            6,221   \n",
      "16   American Samoa  2019           47,321           41,239            6,082   \n",
      "18   American Samoa  2021           45,035           39,257            5,778   \n",
      "21          Andorra  2020           77,700           68,311            9,389   \n",
      "22          Andorra  2021           79,034           69,438            9,596   \n",
      "..              ...   ...              ...              ...              ...   \n",
      "864         Somalia  2018       15,411,094        6,930,523        8,480,571   \n",
      "694           Niger  2021       25,252,722        4,230,083       21,022,639   \n",
      "693           Niger  2020       24,333,639        4,045,711       20,287,928   \n",
      "692           Niger  2019       23,443,393        3,872,145       19,571,248   \n",
      "691           Niger  2018       22,577,058        3,708,282       18,868,776   \n",
      "\n",
      "    Population Density Life Expectancy  Birth Rate  Death Rate Fertility Rate  \\\n",
      "15                 242               -       0.000       0.000              -   \n",
      "16                 237               -       0.000       0.000              -   \n",
      "18                   -               -       0.000       0.000              -   \n",
      "21                 165               -       0.000       0.000              -   \n",
      "22                   -               -       0.000       0.000              -   \n",
      "..                 ...             ...         ...         ...            ...   \n",
      "864                 25            56.0      44.992      11.444          6.632   \n",
      "694                  -            62.0      45.293       8.141           6.82   \n",
      "693                 19            61.0      45.588       8.281          6.892   \n",
      "692                 19            63.0      45.859       7.824          6.961   \n",
      "691                 18            62.0      46.127       8.061          7.023   \n",
      "\n",
      "    Infant Mortality Rate Growth Rate  \n",
      "15                      -        -2.0  \n",
      "16                      -        -2.0  \n",
      "18                      -        -3.0  \n",
      "21                    2.7         2.0  \n",
      "22                    2.6         2.0  \n",
      "..                    ...         ...  \n",
      "864                  77.1         4.0  \n",
      "694                  59.5         4.0  \n",
      "693                  59.9         4.0  \n",
      "692                  60.2         4.0  \n",
      "691                  60.4         4.0  \n",
      "\n",
      "[864 rows x 12 columns]\n"
     ]
    }
   ],
   "source": [
    "print(df.sort_values(by=['Birth Rate', 'Death Rate']))"
   ]
  },
  {
   "cell_type": "markdown",
   "id": "feb8bb1b-8bce-493c-8cfc-a7c2ff879955",
   "metadata": {},
   "source": [
    " <p>2.9 Выведите название страны, которая имеет максимальную численность населения</p>"
   ]
  },
  {
   "cell_type": "code",
   "execution_count": 20,
   "id": "1559cec1-e5d9-4935-9196-91b346e62be3",
   "metadata": {
    "tags": []
   },
   "outputs": [
    {
     "name": "stdout",
     "output_type": "stream",
     "text": [
      "205    China\n",
      "Name: Country, dtype: object\n"
     ]
    }
   ],
   "source": [
    "df['Total Population'] = df['Total Population'].str.replace(',', '')\n",
    "df['Total Population'] = pd.to_numeric(df['Total Population'])\n",
    "print(df.sort_values(by=['Total Population']).tail(1)['Country'])"
   ]
  },
  {
   "cell_type": "markdown",
   "id": "bfcd6ccc-fade-4c11-a4ad-f5df975b22f3",
   "metadata": {},
   "source": [
    " <p>2.10 Выведите название страны, которая имеет минимальную численность населения</p>"
   ]
  },
  {
   "cell_type": "code",
   "execution_count": 21,
   "id": "a81f61b5-b034-4aeb-80b5-6bf2e5d1c511",
   "metadata": {
    "tags": []
   },
   "outputs": [
    {
     "name": "stdout",
     "output_type": "stream",
     "text": [
      "994    Tuvalu\n",
      "Name: Country, dtype: object\n"
     ]
    }
   ],
   "source": [
    "print(df.sort_values(by=['Total Population']).head(1)['Country'])"
   ]
  },
  {
   "cell_type": "markdown",
   "id": "c6010e9b",
   "metadata": {},
   "source": [
    " <p>2.11 Экспорт фрейма в MS Excel</p>"
   ]
  },
  {
   "cell_type": "code",
   "execution_count": 22,
   "id": "14f42adb",
   "metadata": {},
   "outputs": [],
   "source": [
    "df.to_excel(r'C:\\atay_works\\bigData\\lab2')"
   ]
  }
 ],
 "metadata": {
  "kernelspec": {
   "display_name": "Python 3 (ipykernel)",
   "language": "python",
   "name": "python3"
  },
  "language_info": {
   "codemirror_mode": {
    "name": "ipython",
    "version": 3
   },
   "file_extension": ".py",
   "mimetype": "text/x-python",
   "name": "python",
   "nbconvert_exporter": "python",
   "pygments_lexer": "ipython3",
   "version": "3.11.6"
  }
 },
 "nbformat": 4,
 "nbformat_minor": 5
}
