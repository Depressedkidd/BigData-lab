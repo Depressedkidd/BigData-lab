{
 "cells": [
  {
   "cell_type": "markdown",
   "id": "d9a78ca5",
   "metadata": {},
   "source": [
    "<p> Камбаров Атай win-1-21 <br> Лабораторная №1</p>"
   ]
  },
  {
   "cell_type": "code",
   "execution_count": 1,
   "id": "c38ce689",
   "metadata": {},
   "outputs": [
    {
     "name": "stdout",
     "output_type": "stream",
     "text": [
      "<class 'str'>\n",
      "<class 'int'>\n",
      "<class 'float'>\n"
     ]
    }
   ],
   "source": [
    "# Создание переменной\n",
    "full_name = 'Atay Kambarov win-1-21'\n",
    "age = 19\n",
    "num = 666.666\n",
    "\n",
    "# Типы данных\n",
    "print(type(full_name))\n",
    "print(type(age))\n",
    "print(type(num))"
   ]
  },
  {
   "cell_type": "code",
   "execution_count": 15,
   "id": "7dde0646",
   "metadata": {},
   "outputs": [
    {
     "name": "stdout",
     "output_type": "stream",
     "text": [
      "Value: 32.0\n",
      "Проход разрешен\n",
      "0\n",
      "1\n",
      "2\n",
      "3\n",
      "4\n",
      "1\n",
      "2\n",
      "Hello!\n",
      "7\n"
     ]
    }
   ],
   "source": [
    "# библиотеки math\n",
    "import math\n",
    "\n",
    "# Возвышение в степень\n",
    "c = math.pow(2, 5)\n",
    "print(c)\n",
    "\n",
    "# Вывод имени\n",
    "print(f'My name is {full_name}')\n",
    "\n",
    "#  Оператор if / else\n",
    "if age >= 18:\n",
    "    print('разрешено употреблять алкоголь')\n",
    "    \n",
    "elif age < 18:\n",
    "    print('запрещено употреблять алкоголь')\n",
    "    \n",
    "else:\n",
    "    print('Неправильный ввод!')\n",
    "\n",
    "# Оператор for in\n",
    "for i in range(1, 10):\n",
    "    print(i)\n",
    "\n",
    "# цикл while\n",
    "count = 1\n",
    "while(count != 3):\n",
    "    print(count)\n",
    "    count += 1\n",
    "\n",
    "# Создание функции\n",
    "def my_function():\n",
    "    print(\"Hello!\")\n",
    "\n",
    "# Вызов функции\n",
    "my_function()\n",
    "\n",
    "# Создание анонимной функции\n",
    "print(*map(lambda x: x ** 2, lst))"
   ]
  },
  {
   "cell_type": "markdown",
   "id": "d1b7d5bc",
   "metadata": {},
   "source": [
    " <h1>Атай Камбаров</h1>\n",
    " <h2>Атай Камбаров</h2>\n",
    " <h3>Атай Камбаров</h3>\n",
    " <h4>Атай Камбаров</h4>\n",
    " <h5>Атай Камбаров</h5>\n",
    " <h6>Атай Камбаров</h6>\n",
    " \n",
    " <img src='https://catherineasquithgallery.com/uploads/posts/2021-02/1612774079_81-p-temno-goluboi-fon-minimalizm-oboi-na-aifon-119.jpg' alt='picture'>"
   ]
  },
  {
   "cell_type": "markdown",
   "id": "35881322",
   "metadata": {},
   "source": [
    "# Вставка математических формул с помощью встроенного редактора TeX\n",
    "\n",
    "\\begin{equation*}\n",
    "\\left(sum_{k=1}^n a_k b_k\\right)^2\n",
    "\\end{equation*}"
   ]
  },
  {
   "cell_type": "code",
   "execution_count": 17,
   "id": "d1a5bd4d",
   "metadata": {},
   "outputs": [
    {
     "name": "stdout",
     "output_type": "stream",
     "text": [
      "\n",
      "Windows IP Configuration\n",
      "\n",
      "\n",
      "Ethernet adapter Ethernet:\n",
      "\n",
      "   Media State . . . . . . . . . . . : Media disconnected\n",
      "   Connection-specific DNS Suffix  . : \n",
      "\n",
      "Wireless LAN adapter Local Area Connection* 1:\n",
      "\n",
      "   Media State . . . . . . . . . . . : Media disconnected\n",
      "   Connection-specific DNS Suffix  . : \n",
      "\n",
      "Wireless LAN adapter Local Area Connection* 2:\n",
      "\n",
      "   Media State . . . . . . . . . . . : Media disconnected\n",
      "   Connection-specific DNS Suffix  . : \n",
      "\n",
      "Wireless LAN adapter Wi-Fi:\n",
      "\n",
      "   Connection-specific DNS Suffix  . : \n",
      "   Link-local IPv6 Address . . . . . : fe80::638a:cccb:cecb:9a6f%16\n",
      "   IPv4 Address. . . . . . . . . . . : 192.168.88.200\n",
      "   Subnet Mask . . . . . . . . . . . : 255.255.255.0\n",
      "   Default Gateway . . . . . . . . . : 192.168.88.1\n"
     ]
    }
   ],
   "source": [
    "# Выполнение команд консоли\n",
    "\n",
    "! ipconfig"
   ]
  },
  {
   "cell_type": "code",
   "execution_count": 18,
   "id": "fc4f088f",
   "metadata": {},
   "outputs": [
    {
     "name": "stdout",
     "output_type": "stream",
     "text": [
      "\n",
      "Pinging google.com [216.58.210.174] with 32 bytes of data:\n",
      "Reply from 216.58.210.174: bytes=32 time=69ms TTL=57\n",
      "Reply from 216.58.210.174: bytes=32 time=73ms TTL=57\n",
      "Reply from 216.58.210.174: bytes=32 time=72ms TTL=57\n",
      "Reply from 216.58.210.174: bytes=32 time=69ms TTL=57\n",
      "\n",
      "Ping statistics for 216.58.210.174:\n",
      "    Packets: Sent = 4, Received = 4, Lost = 0 (0% loss),\n",
      "Approximate round trip times in milli-seconds:\n",
      "    Minimum = 69ms, Maximum = 73ms, Average = 70ms\n"
     ]
    }
   ],
   "source": [
    "! ping google.com"
   ]
  },
  {
   "cell_type": "code",
   "execution_count": null,
   "id": "f6624122",
   "metadata": {},
   "outputs": [],
   "source": []
  }
 ],
 "metadata": {
  "kernelspec": {
   "display_name": "Python 3 (ipykernel)",
   "language": "python",
   "name": "python3"
  },
  "language_info": {
   "codemirror_mode": {
    "name": "ipython",
    "version": 3
   },
   "file_extension": ".py",
   "mimetype": "text/x-python",
   "name": "python",
   "nbconvert_exporter": "python",
   "pygments_lexer": "ipython3",
   "version": "3.11.4"
  }
 },
 "nbformat": 4,
 "nbformat_minor": 5
}
